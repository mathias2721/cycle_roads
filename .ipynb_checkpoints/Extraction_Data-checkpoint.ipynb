{
 "cells": [
  {
   "cell_type": "code",
   "execution_count": 2,
   "metadata": {
    "collapsed": false,
    "jupyter": {
     "outputs_hidden": false
    }
   },
   "outputs": [
    {
     "name": "stdout",
     "output_type": "stream",
     "text": [
      "0.023713480824544286 %\n",
      "0.04742696164908857 %\n",
      "0.07114044247363285 %\n",
      "0.09485392329817714 %\n",
      "0.11856740412272145 %\n",
      "0.1422808849472657 %\n",
      "0.16599436577181 %\n",
      "0.18970784659635428 %\n",
      "0.21342132742089862 %\n",
      "0.2371348082454429 %\n",
      "0.26084828906998714 %\n",
      "0.2845617698945314 %\n",
      "0.30827525071907574 %\n",
      "0.33198873154362 %\n",
      "0.3557022123681643 %\n",
      "0.37941569319270857 %\n",
      "0.40312917401725284 %\n",
      "0.42684265484179723 %\n",
      "0.4505561356663415 %\n",
      "0.4742696164908858 %\n",
      "0.49798309731543006 %\n",
      "0.5216965781399743 %\n",
      "0.5454100589645186 %\n",
      "0.5691235397890628 %\n",
      "0.5928370206136072 %\n",
      "0.6165505014381515 %\n"
     ]
    }
   ],
   "source": [
    "import xml.etree.ElementTree as ET\n",
    "import json\n",
    "\n",
    "index=4\n",
    "\n",
    "nodes=[]\n",
    "ways=[]\n",
    "relations=[]\n",
    "\n",
    "osm_data_file = \"Data/selected_roads.xml\"\n",
    "\n",
    "output_files = \"json_data/selected_ways/\"\n",
    "\n",
    "def process_element(el):\n",
    "    if el.tag==\"node\":\n",
    "        nodes.append({\n",
    "            \"id\": int(el.attrib['id']),\n",
    "            \"lat\": float(el.attrib['lat']),\n",
    "            \"lon\": float(el.attrib['lon']),\n",
    "            \"tags\": {tag.attrib[\"k\"]: tag.attrib[\"v\"] for tag in el}\n",
    "        })\n",
    "    if el.tag==\"way\":\n",
    "        ways.append({\n",
    "            \"id\": int(el.attrib['id']),\n",
    "            \"nodes\": [int(nd.attrib[\"ref\"]) for nd in el if nd.tag==\"nd\"],\n",
    "            \"tags\": {tag.attrib[\"k\"]: tag.attrib[\"v\"] for tag in el if tag.tag==\"tag\"}\n",
    "        }) \n",
    "    if el.tag==\"relation\":\n",
    "        relations.append({\n",
    "            \"id\": int(el.attrib['id']),\n",
    "            \"nodes\": [int(nd.attrib[\"ref\"]) for nd in el if nd.tag==\"member\" and nd.attrib[\"type\"]==\"node\"],\n",
    "            \"ways\": [int(nd.attrib[\"ref\"]) for nd in el if nd.tag==\"member\" and nd.attrib[\"type\"]==\"way\"],\n",
    "            \"tags\": {tag.attrib[\"k\"]: tag.attrib[\"v\"] for tag in el if tag.tag==\"tag\"}\n",
    "        })\n",
    "\n",
    "# Parse the XML file\n",
    "with open(osm_data_file) as file:\n",
    "    context = ET.iterparse(file, events=('start', 'end'))\n",
    "\n",
    "    # Iterate over the elements\n",
    "    counter = 0\n",
    "    for event, element in context:\n",
    "        if event == 'start':\n",
    "            process_element(element)\n",
    "            element.clear()\n",
    "            counter += 1\n",
    "            if counter % 100000 == 0:\n",
    "                print(float(counter)/105425265.0*25, \"%\")\n",
    "    \n",
    "\n",
    "with open(output_files +\"nodes\" + '.json', 'w') as file:\n",
    "    json.dump(nodes, file)\n",
    "with open(output_files +\"ways\" + '.json', 'w') as file:\n",
    "    json.dump(ways, file)\n",
    "with open(output_files +\"relations\" + '.json', 'w') as file:\n",
    "    json.dump(relations, file)"
   ]
  }
 ],
 "metadata": {
  "kernelspec": {
   "display_name": "Python 3 (ipykernel)",
   "language": "python",
   "name": "python3"
  },
  "language_info": {
   "codemirror_mode": {
    "name": "ipython",
    "version": 3
   },
   "file_extension": ".py",
   "mimetype": "text/x-python",
   "name": "python",
   "nbconvert_exporter": "python",
   "pygments_lexer": "ipython3",
   "version": "3.10.12"
  }
 },
 "nbformat": 4,
 "nbformat_minor": 4
}
